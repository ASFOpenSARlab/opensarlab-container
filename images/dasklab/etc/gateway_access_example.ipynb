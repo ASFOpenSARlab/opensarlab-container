{
 "cells": [
  {
   "cell_type": "markdown",
   "id": "4e0216cb-1bd5-4b66-8271-563bc7131a25",
   "metadata": {},
   "source": [
    "Documentaion at https://gateway.dask.org/"
   ]
  },
  {
   "cell_type": "code",
   "execution_count": null,
   "id": "691d9b36-9aae-482f-8c22-1fa42c9e31d5",
   "metadata": {},
   "outputs": [],
   "source": [
    "from dask_gateway import Gateway"
   ]
  },
  {
   "cell_type": "code",
   "execution_count": null,
   "id": "6e43c5f1-6548-4929-9ecd-ffbdd1c6165f",
   "metadata": {},
   "outputs": [],
   "source": [
    "# Use default gateway settings found in ~/.config/dask/gateway.yaml or /etc/dask/gateway.yaml\n",
    "gateway = Gateway()"
   ]
  },
  {
   "cell_type": "code",
   "execution_count": null,
   "id": "4fe2ad2f-cba7-45a4-a4fa-4a29fb4caa1b",
   "metadata": {},
   "outputs": [],
   "source": [
    "# Get list of active gateway clusters. \n",
    "gateway_clusters = gateway.list_clusters()\n",
    "gateway_clusters"
   ]
  },
  {
   "cell_type": "code",
   "execution_count": null,
   "id": "eb7bdc3a-e863-4215-bc86-834da83ebb5a",
   "metadata": {},
   "outputs": [],
   "source": [
    "gateway.address"
   ]
  },
  {
   "cell_type": "code",
   "execution_count": null,
   "id": "a6f63ca6-79d2-4c9f-b93e-4c32bc5718de",
   "metadata": {},
   "outputs": [],
   "source": [
    "options = gateway.cluster_options()\n",
    "options"
   ]
  },
  {
   "cell_type": "code",
   "execution_count": null,
   "id": "95d2dfc4-ab9e-4145-9ace-2e533f33daf8",
   "metadata": {},
   "outputs": [],
   "source": [
    "if len(gateway_clusters) == 0:\n",
    "    cluster = gateway.new_cluster()\n",
    "else:\n",
    "    cluster = gateway.connect(gateway_clusters[0].name)\n",
    "\n",
    "cluster.scale(1)\n",
    "cluster"
   ]
  },
  {
   "cell_type": "code",
   "execution_count": null,
   "id": "7a46525a-324c-4960-8fd3-71dcca08c7fb",
   "metadata": {},
   "outputs": [],
   "source": [
    "client = cluster.get_client()\n",
    "client"
   ]
  },
  {
   "cell_type": "code",
   "execution_count": null,
   "id": "972b06a6-8144-459d-b71f-3fa507fdb482",
   "metadata": {},
   "outputs": [],
   "source": [
    "# Example 1\n",
    "# Use implicit client to do calculation\n",
    "import dask.array as da\n",
    "\n",
    "a = da.random.normal(size=(1000, 1000), chunks=(500, 500))\n",
    "a.mean().compute()"
   ]
  },
  {
   "cell_type": "code",
   "execution_count": null,
   "id": "a69a8f23-979a-4665-b66c-1668f15eb362",
   "metadata": {},
   "outputs": [],
   "source": [
    "# Example 2\n",
    "# Submitting and running function to client \n",
    "import logging\n",
    "def example1(name):\n",
    "    logging.info(name)\n",
    "    return name\n",
    "\n",
    "future1 = client.submit(example1, 'qwerty')\n",
    "answer1 = future1.result()\n",
    "print(answer1)"
   ]
  },
  {
   "cell_type": "code",
   "execution_count": null,
   "id": "0442742e-be6a-4ddd-9a69-dc0f4b2a8e64",
   "metadata": {},
   "outputs": [],
   "source": [
    "# Example 3\n",
    "# Submitting and throwing error exception \n",
    "import logging\n",
    "def example2(name):\n",
    "    logging.info(name)\n",
    "    raise Exception(\"Oh no!!\")\n",
    "    return name\n",
    "\n",
    "future2 = client.submit(example2, 'qwerty')\n",
    "answer2 = future2.result()\n",
    "print(answer2)"
   ]
  },
  {
   "cell_type": "code",
   "execution_count": null,
   "id": "daeae24b-0d45-4fcc-ad1c-8be8c3a51a76",
   "metadata": {},
   "outputs": [],
   "source": [
    "cluster.shutdown()"
   ]
  }
 ],
 "metadata": {
  "kernelspec": {
   "display_name": "Python 3 (ipykernel)",
   "language": "python",
   "name": "python3"
  },
  "language_info": {
   "codemirror_mode": {
    "name": "ipython",
    "version": 3
   },
   "file_extension": ".py",
   "mimetype": "text/x-python",
   "name": "python",
   "nbconvert_exporter": "python",
   "pygments_lexer": "ipython3",
   "version": "3.11.6"
  }
 },
 "nbformat": 4,
 "nbformat_minor": 5
}
